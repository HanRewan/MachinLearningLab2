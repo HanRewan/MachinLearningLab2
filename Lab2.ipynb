{
 "cells": [
  {
   "cell_type": "markdown",
   "id": "ebbaa6df-22c4-40d1-8207-d40562de672a",
   "metadata": {},
   "source": [
    "Завантажую датасет. Він вже нормалізований і усі категореальні ознаки перетворені в ванхот вектори."
   ]
  },
  {
   "cell_type": "code",
   "execution_count": 3,
   "id": "7dd3198b-f486-4cb0-a652-61fda0ecfe6c",
   "metadata": {
    "tags": []
   },
   "outputs": [
    {
     "data": {
      "text/html": [
       "<div>\n",
       "<style scoped>\n",
       "    .dataframe tbody tr th:only-of-type {\n",
       "        vertical-align: middle;\n",
       "    }\n",
       "\n",
       "    .dataframe tbody tr th {\n",
       "        vertical-align: top;\n",
       "    }\n",
       "\n",
       "    .dataframe thead th {\n",
       "        text-align: right;\n",
       "    }\n",
       "</style>\n",
       "<table border=\"1\" class=\"dataframe\">\n",
       "  <thead>\n",
       "    <tr style=\"text-align: right;\">\n",
       "      <th></th>\n",
       "      <th>age</th>\n",
       "      <th>fnlwgt</th>\n",
       "      <th>education-num</th>\n",
       "      <th>capital-gain</th>\n",
       "      <th>capital-loss</th>\n",
       "      <th>hours-per-week</th>\n",
       "      <th>income</th>\n",
       "      <th>workclass_Federal-gov</th>\n",
       "      <th>workclass_Local-gov</th>\n",
       "      <th>workclass_Private</th>\n",
       "      <th>...</th>\n",
       "      <th>relationship_Own-child</th>\n",
       "      <th>relationship_Unmarried</th>\n",
       "      <th>relationship_Wife</th>\n",
       "      <th>race_Asian-Pac-Islander</th>\n",
       "      <th>race_Black</th>\n",
       "      <th>race_White</th>\n",
       "      <th>sex_Female</th>\n",
       "      <th>sex_Male</th>\n",
       "      <th>native-country_Mexico</th>\n",
       "      <th>native-country_United-States</th>\n",
       "    </tr>\n",
       "  </thead>\n",
       "  <tbody>\n",
       "    <tr>\n",
       "      <th>0</th>\n",
       "      <td>0.301370</td>\n",
       "      <td>0.044302</td>\n",
       "      <td>0.800000</td>\n",
       "      <td>0.021740</td>\n",
       "      <td>0.0</td>\n",
       "      <td>0.397959</td>\n",
       "      <td>1</td>\n",
       "      <td>0</td>\n",
       "      <td>0</td>\n",
       "      <td>0</td>\n",
       "      <td>...</td>\n",
       "      <td>0</td>\n",
       "      <td>0</td>\n",
       "      <td>0</td>\n",
       "      <td>0</td>\n",
       "      <td>0</td>\n",
       "      <td>1</td>\n",
       "      <td>0</td>\n",
       "      <td>1</td>\n",
       "      <td>0</td>\n",
       "      <td>1</td>\n",
       "    </tr>\n",
       "    <tr>\n",
       "      <th>1</th>\n",
       "      <td>0.452055</td>\n",
       "      <td>0.048238</td>\n",
       "      <td>0.800000</td>\n",
       "      <td>0.000000</td>\n",
       "      <td>0.0</td>\n",
       "      <td>0.122449</td>\n",
       "      <td>1</td>\n",
       "      <td>0</td>\n",
       "      <td>0</td>\n",
       "      <td>0</td>\n",
       "      <td>...</td>\n",
       "      <td>0</td>\n",
       "      <td>0</td>\n",
       "      <td>0</td>\n",
       "      <td>0</td>\n",
       "      <td>0</td>\n",
       "      <td>1</td>\n",
       "      <td>0</td>\n",
       "      <td>1</td>\n",
       "      <td>0</td>\n",
       "      <td>1</td>\n",
       "    </tr>\n",
       "    <tr>\n",
       "      <th>2</th>\n",
       "      <td>0.287671</td>\n",
       "      <td>0.138113</td>\n",
       "      <td>0.533333</td>\n",
       "      <td>0.000000</td>\n",
       "      <td>0.0</td>\n",
       "      <td>0.397959</td>\n",
       "      <td>1</td>\n",
       "      <td>0</td>\n",
       "      <td>0</td>\n",
       "      <td>1</td>\n",
       "      <td>...</td>\n",
       "      <td>0</td>\n",
       "      <td>0</td>\n",
       "      <td>0</td>\n",
       "      <td>0</td>\n",
       "      <td>0</td>\n",
       "      <td>1</td>\n",
       "      <td>0</td>\n",
       "      <td>1</td>\n",
       "      <td>0</td>\n",
       "      <td>1</td>\n",
       "    </tr>\n",
       "    <tr>\n",
       "      <th>3</th>\n",
       "      <td>0.493151</td>\n",
       "      <td>0.151068</td>\n",
       "      <td>0.400000</td>\n",
       "      <td>0.000000</td>\n",
       "      <td>0.0</td>\n",
       "      <td>0.397959</td>\n",
       "      <td>1</td>\n",
       "      <td>0</td>\n",
       "      <td>0</td>\n",
       "      <td>1</td>\n",
       "      <td>...</td>\n",
       "      <td>0</td>\n",
       "      <td>0</td>\n",
       "      <td>0</td>\n",
       "      <td>0</td>\n",
       "      <td>1</td>\n",
       "      <td>0</td>\n",
       "      <td>0</td>\n",
       "      <td>1</td>\n",
       "      <td>0</td>\n",
       "      <td>1</td>\n",
       "    </tr>\n",
       "    <tr>\n",
       "      <th>4</th>\n",
       "      <td>0.150685</td>\n",
       "      <td>0.221488</td>\n",
       "      <td>0.800000</td>\n",
       "      <td>0.000000</td>\n",
       "      <td>0.0</td>\n",
       "      <td>0.397959</td>\n",
       "      <td>1</td>\n",
       "      <td>0</td>\n",
       "      <td>0</td>\n",
       "      <td>1</td>\n",
       "      <td>...</td>\n",
       "      <td>0</td>\n",
       "      <td>0</td>\n",
       "      <td>1</td>\n",
       "      <td>0</td>\n",
       "      <td>1</td>\n",
       "      <td>0</td>\n",
       "      <td>1</td>\n",
       "      <td>0</td>\n",
       "      <td>0</td>\n",
       "      <td>0</td>\n",
       "    </tr>\n",
       "    <tr>\n",
       "      <th>...</th>\n",
       "      <td>...</td>\n",
       "      <td>...</td>\n",
       "      <td>...</td>\n",
       "      <td>...</td>\n",
       "      <td>...</td>\n",
       "      <td>...</td>\n",
       "      <td>...</td>\n",
       "      <td>...</td>\n",
       "      <td>...</td>\n",
       "      <td>...</td>\n",
       "      <td>...</td>\n",
       "      <td>...</td>\n",
       "      <td>...</td>\n",
       "      <td>...</td>\n",
       "      <td>...</td>\n",
       "      <td>...</td>\n",
       "      <td>...</td>\n",
       "      <td>...</td>\n",
       "      <td>...</td>\n",
       "      <td>...</td>\n",
       "      <td>...</td>\n",
       "    </tr>\n",
       "    <tr>\n",
       "      <th>32556</th>\n",
       "      <td>0.136986</td>\n",
       "      <td>0.166404</td>\n",
       "      <td>0.733333</td>\n",
       "      <td>0.000000</td>\n",
       "      <td>0.0</td>\n",
       "      <td>0.377551</td>\n",
       "      <td>1</td>\n",
       "      <td>0</td>\n",
       "      <td>0</td>\n",
       "      <td>1</td>\n",
       "      <td>...</td>\n",
       "      <td>0</td>\n",
       "      <td>0</td>\n",
       "      <td>1</td>\n",
       "      <td>0</td>\n",
       "      <td>0</td>\n",
       "      <td>1</td>\n",
       "      <td>1</td>\n",
       "      <td>0</td>\n",
       "      <td>0</td>\n",
       "      <td>1</td>\n",
       "    </tr>\n",
       "    <tr>\n",
       "      <th>32557</th>\n",
       "      <td>0.315068</td>\n",
       "      <td>0.096500</td>\n",
       "      <td>0.533333</td>\n",
       "      <td>0.000000</td>\n",
       "      <td>0.0</td>\n",
       "      <td>0.397959</td>\n",
       "      <td>0</td>\n",
       "      <td>0</td>\n",
       "      <td>0</td>\n",
       "      <td>1</td>\n",
       "      <td>...</td>\n",
       "      <td>0</td>\n",
       "      <td>0</td>\n",
       "      <td>0</td>\n",
       "      <td>0</td>\n",
       "      <td>0</td>\n",
       "      <td>1</td>\n",
       "      <td>0</td>\n",
       "      <td>1</td>\n",
       "      <td>0</td>\n",
       "      <td>1</td>\n",
       "    </tr>\n",
       "    <tr>\n",
       "      <th>32558</th>\n",
       "      <td>0.561644</td>\n",
       "      <td>0.094827</td>\n",
       "      <td>0.533333</td>\n",
       "      <td>0.000000</td>\n",
       "      <td>0.0</td>\n",
       "      <td>0.397959</td>\n",
       "      <td>1</td>\n",
       "      <td>0</td>\n",
       "      <td>0</td>\n",
       "      <td>1</td>\n",
       "      <td>...</td>\n",
       "      <td>0</td>\n",
       "      <td>1</td>\n",
       "      <td>0</td>\n",
       "      <td>0</td>\n",
       "      <td>0</td>\n",
       "      <td>1</td>\n",
       "      <td>1</td>\n",
       "      <td>0</td>\n",
       "      <td>0</td>\n",
       "      <td>1</td>\n",
       "    </tr>\n",
       "    <tr>\n",
       "      <th>32559</th>\n",
       "      <td>0.068493</td>\n",
       "      <td>0.128499</td>\n",
       "      <td>0.533333</td>\n",
       "      <td>0.000000</td>\n",
       "      <td>0.0</td>\n",
       "      <td>0.193878</td>\n",
       "      <td>1</td>\n",
       "      <td>0</td>\n",
       "      <td>0</td>\n",
       "      <td>1</td>\n",
       "      <td>...</td>\n",
       "      <td>1</td>\n",
       "      <td>0</td>\n",
       "      <td>0</td>\n",
       "      <td>0</td>\n",
       "      <td>0</td>\n",
       "      <td>1</td>\n",
       "      <td>0</td>\n",
       "      <td>1</td>\n",
       "      <td>0</td>\n",
       "      <td>1</td>\n",
       "    </tr>\n",
       "    <tr>\n",
       "      <th>32560</th>\n",
       "      <td>0.479452</td>\n",
       "      <td>0.187203</td>\n",
       "      <td>0.533333</td>\n",
       "      <td>0.150242</td>\n",
       "      <td>0.0</td>\n",
       "      <td>0.397959</td>\n",
       "      <td>0</td>\n",
       "      <td>0</td>\n",
       "      <td>0</td>\n",
       "      <td>0</td>\n",
       "      <td>...</td>\n",
       "      <td>0</td>\n",
       "      <td>0</td>\n",
       "      <td>1</td>\n",
       "      <td>0</td>\n",
       "      <td>0</td>\n",
       "      <td>1</td>\n",
       "      <td>1</td>\n",
       "      <td>0</td>\n",
       "      <td>0</td>\n",
       "      <td>1</td>\n",
       "    </tr>\n",
       "  </tbody>\n",
       "</table>\n",
       "<p>32561 rows × 58 columns</p>\n",
       "</div>"
      ],
      "text/plain": [
       "            age    fnlwgt  education-num  capital-gain  capital-loss   \n",
       "0      0.301370  0.044302       0.800000      0.021740           0.0  \\\n",
       "1      0.452055  0.048238       0.800000      0.000000           0.0   \n",
       "2      0.287671  0.138113       0.533333      0.000000           0.0   \n",
       "3      0.493151  0.151068       0.400000      0.000000           0.0   \n",
       "4      0.150685  0.221488       0.800000      0.000000           0.0   \n",
       "...         ...       ...            ...           ...           ...   \n",
       "32556  0.136986  0.166404       0.733333      0.000000           0.0   \n",
       "32557  0.315068  0.096500       0.533333      0.000000           0.0   \n",
       "32558  0.561644  0.094827       0.533333      0.000000           0.0   \n",
       "32559  0.068493  0.128499       0.533333      0.000000           0.0   \n",
       "32560  0.479452  0.187203       0.533333      0.150242           0.0   \n",
       "\n",
       "       hours-per-week  income  workclass_Federal-gov  workclass_Local-gov   \n",
       "0            0.397959       1                      0                    0  \\\n",
       "1            0.122449       1                      0                    0   \n",
       "2            0.397959       1                      0                    0   \n",
       "3            0.397959       1                      0                    0   \n",
       "4            0.397959       1                      0                    0   \n",
       "...               ...     ...                    ...                  ...   \n",
       "32556        0.377551       1                      0                    0   \n",
       "32557        0.397959       0                      0                    0   \n",
       "32558        0.397959       1                      0                    0   \n",
       "32559        0.193878       1                      0                    0   \n",
       "32560        0.397959       0                      0                    0   \n",
       "\n",
       "       workclass_Private  ...  relationship_Own-child  relationship_Unmarried   \n",
       "0                      0  ...                       0                       0  \\\n",
       "1                      0  ...                       0                       0   \n",
       "2                      1  ...                       0                       0   \n",
       "3                      1  ...                       0                       0   \n",
       "4                      1  ...                       0                       0   \n",
       "...                  ...  ...                     ...                     ...   \n",
       "32556                  1  ...                       0                       0   \n",
       "32557                  1  ...                       0                       0   \n",
       "32558                  1  ...                       0                       1   \n",
       "32559                  1  ...                       1                       0   \n",
       "32560                  0  ...                       0                       0   \n",
       "\n",
       "       relationship_Wife  race_Asian-Pac-Islander  race_Black  race_White   \n",
       "0                      0                        0           0           1  \\\n",
       "1                      0                        0           0           1   \n",
       "2                      0                        0           0           1   \n",
       "3                      0                        0           1           0   \n",
       "4                      1                        0           1           0   \n",
       "...                  ...                      ...         ...         ...   \n",
       "32556                  1                        0           0           1   \n",
       "32557                  0                        0           0           1   \n",
       "32558                  0                        0           0           1   \n",
       "32559                  0                        0           0           1   \n",
       "32560                  1                        0           0           1   \n",
       "\n",
       "       sex_Female  sex_Male  native-country_Mexico   \n",
       "0               0         1                      0  \\\n",
       "1               0         1                      0   \n",
       "2               0         1                      0   \n",
       "3               0         1                      0   \n",
       "4               1         0                      0   \n",
       "...           ...       ...                    ...   \n",
       "32556           1         0                      0   \n",
       "32557           0         1                      0   \n",
       "32558           1         0                      0   \n",
       "32559           0         1                      0   \n",
       "32560           1         0                      0   \n",
       "\n",
       "       native-country_United-States  \n",
       "0                                 1  \n",
       "1                                 1  \n",
       "2                                 1  \n",
       "3                                 1  \n",
       "4                                 0  \n",
       "...                             ...  \n",
       "32556                             1  \n",
       "32557                             1  \n",
       "32558                             1  \n",
       "32559                             1  \n",
       "32560                             1  \n",
       "\n",
       "[32561 rows x 58 columns]"
      ]
     },
     "execution_count": 3,
     "metadata": {},
     "output_type": "execute_result"
    }
   ],
   "source": [
    "from sklearn.model_selection import train_test_split\n",
    "from sklearn import *\n",
    "import pandas as pd\n",
    "import numpy as np\n",
    "\n",
    "df = pd.read_csv('done_data.csv')\n",
    "df"
   ]
  },
  {
   "cell_type": "markdown",
   "id": "07a7a63d-9d37-4a71-ab8a-59d655bf92bf",
   "metadata": {
    "tags": []
   },
   "source": [
    "Розділяю датасет на тестові та тренувальні данні за допомогою train_test_split."
   ]
  },
  {
   "cell_type": "code",
   "execution_count": 4,
   "id": "9166debf-85db-4f0e-ba37-e80c4fcf2c53",
   "metadata": {
    "tags": []
   },
   "outputs": [
    {
     "data": {
      "text/html": [
       "<div>\n",
       "<style scoped>\n",
       "    .dataframe tbody tr th:only-of-type {\n",
       "        vertical-align: middle;\n",
       "    }\n",
       "\n",
       "    .dataframe tbody tr th {\n",
       "        vertical-align: top;\n",
       "    }\n",
       "\n",
       "    .dataframe thead th {\n",
       "        text-align: right;\n",
       "    }\n",
       "</style>\n",
       "<table border=\"1\" class=\"dataframe\">\n",
       "  <thead>\n",
       "    <tr style=\"text-align: right;\">\n",
       "      <th></th>\n",
       "      <th>age</th>\n",
       "      <th>fnlwgt</th>\n",
       "      <th>education-num</th>\n",
       "      <th>capital-gain</th>\n",
       "      <th>capital-loss</th>\n",
       "      <th>hours-per-week</th>\n",
       "      <th>workclass_Federal-gov</th>\n",
       "      <th>workclass_Local-gov</th>\n",
       "      <th>workclass_Private</th>\n",
       "      <th>workclass_Self-emp-inc</th>\n",
       "      <th>...</th>\n",
       "      <th>relationship_Own-child</th>\n",
       "      <th>relationship_Unmarried</th>\n",
       "      <th>relationship_Wife</th>\n",
       "      <th>race_Asian-Pac-Islander</th>\n",
       "      <th>race_Black</th>\n",
       "      <th>race_White</th>\n",
       "      <th>sex_Female</th>\n",
       "      <th>sex_Male</th>\n",
       "      <th>native-country_Mexico</th>\n",
       "      <th>native-country_United-States</th>\n",
       "    </tr>\n",
       "  </thead>\n",
       "  <tbody>\n",
       "    <tr>\n",
       "      <th>9646</th>\n",
       "      <td>0.616438</td>\n",
       "      <td>0.009933</td>\n",
       "      <td>0.200000</td>\n",
       "      <td>0.000000</td>\n",
       "      <td>0.0</td>\n",
       "      <td>0.663265</td>\n",
       "      <td>0</td>\n",
       "      <td>0</td>\n",
       "      <td>0</td>\n",
       "      <td>0</td>\n",
       "      <td>...</td>\n",
       "      <td>0</td>\n",
       "      <td>0</td>\n",
       "      <td>0</td>\n",
       "      <td>0</td>\n",
       "      <td>0</td>\n",
       "      <td>1</td>\n",
       "      <td>1</td>\n",
       "      <td>0</td>\n",
       "      <td>0</td>\n",
       "      <td>1</td>\n",
       "    </tr>\n",
       "    <tr>\n",
       "      <th>709</th>\n",
       "      <td>0.013699</td>\n",
       "      <td>0.132991</td>\n",
       "      <td>0.400000</td>\n",
       "      <td>0.000000</td>\n",
       "      <td>0.0</td>\n",
       "      <td>0.244898</td>\n",
       "      <td>0</td>\n",
       "      <td>0</td>\n",
       "      <td>1</td>\n",
       "      <td>0</td>\n",
       "      <td>...</td>\n",
       "      <td>0</td>\n",
       "      <td>0</td>\n",
       "      <td>0</td>\n",
       "      <td>0</td>\n",
       "      <td>0</td>\n",
       "      <td>1</td>\n",
       "      <td>0</td>\n",
       "      <td>1</td>\n",
       "      <td>0</td>\n",
       "      <td>1</td>\n",
       "    </tr>\n",
       "    <tr>\n",
       "      <th>7385</th>\n",
       "      <td>0.109589</td>\n",
       "      <td>0.061254</td>\n",
       "      <td>0.800000</td>\n",
       "      <td>0.278283</td>\n",
       "      <td>0.0</td>\n",
       "      <td>0.500000</td>\n",
       "      <td>0</td>\n",
       "      <td>0</td>\n",
       "      <td>1</td>\n",
       "      <td>0</td>\n",
       "      <td>...</td>\n",
       "      <td>1</td>\n",
       "      <td>0</td>\n",
       "      <td>0</td>\n",
       "      <td>0</td>\n",
       "      <td>0</td>\n",
       "      <td>1</td>\n",
       "      <td>0</td>\n",
       "      <td>1</td>\n",
       "      <td>0</td>\n",
       "      <td>1</td>\n",
       "    </tr>\n",
       "    <tr>\n",
       "      <th>16671</th>\n",
       "      <td>0.219178</td>\n",
       "      <td>0.339055</td>\n",
       "      <td>0.533333</td>\n",
       "      <td>0.000000</td>\n",
       "      <td>0.0</td>\n",
       "      <td>0.397959</td>\n",
       "      <td>0</td>\n",
       "      <td>0</td>\n",
       "      <td>1</td>\n",
       "      <td>0</td>\n",
       "      <td>...</td>\n",
       "      <td>0</td>\n",
       "      <td>0</td>\n",
       "      <td>0</td>\n",
       "      <td>0</td>\n",
       "      <td>0</td>\n",
       "      <td>1</td>\n",
       "      <td>0</td>\n",
       "      <td>1</td>\n",
       "      <td>0</td>\n",
       "      <td>1</td>\n",
       "    </tr>\n",
       "    <tr>\n",
       "      <th>21932</th>\n",
       "      <td>0.260274</td>\n",
       "      <td>0.190357</td>\n",
       "      <td>0.400000</td>\n",
       "      <td>0.000000</td>\n",
       "      <td>0.0</td>\n",
       "      <td>0.397959</td>\n",
       "      <td>0</td>\n",
       "      <td>0</td>\n",
       "      <td>1</td>\n",
       "      <td>0</td>\n",
       "      <td>...</td>\n",
       "      <td>0</td>\n",
       "      <td>1</td>\n",
       "      <td>0</td>\n",
       "      <td>0</td>\n",
       "      <td>0</td>\n",
       "      <td>1</td>\n",
       "      <td>1</td>\n",
       "      <td>0</td>\n",
       "      <td>0</td>\n",
       "      <td>1</td>\n",
       "    </tr>\n",
       "  </tbody>\n",
       "</table>\n",
       "<p>5 rows × 57 columns</p>\n",
       "</div>"
      ],
      "text/plain": [
       "            age    fnlwgt  education-num  capital-gain  capital-loss   \n",
       "9646   0.616438  0.009933       0.200000      0.000000           0.0  \\\n",
       "709    0.013699  0.132991       0.400000      0.000000           0.0   \n",
       "7385   0.109589  0.061254       0.800000      0.278283           0.0   \n",
       "16671  0.219178  0.339055       0.533333      0.000000           0.0   \n",
       "21932  0.260274  0.190357       0.400000      0.000000           0.0   \n",
       "\n",
       "       hours-per-week  workclass_Federal-gov  workclass_Local-gov   \n",
       "9646         0.663265                      0                    0  \\\n",
       "709          0.244898                      0                    0   \n",
       "7385         0.500000                      0                    0   \n",
       "16671        0.397959                      0                    0   \n",
       "21932        0.397959                      0                    0   \n",
       "\n",
       "       workclass_Private  workclass_Self-emp-inc  ...  relationship_Own-child   \n",
       "9646                   0                       0  ...                       0  \\\n",
       "709                    1                       0  ...                       0   \n",
       "7385                   1                       0  ...                       1   \n",
       "16671                  1                       0  ...                       0   \n",
       "21932                  1                       0  ...                       0   \n",
       "\n",
       "       relationship_Unmarried  relationship_Wife  race_Asian-Pac-Islander   \n",
       "9646                        0                  0                        0  \\\n",
       "709                         0                  0                        0   \n",
       "7385                        0                  0                        0   \n",
       "16671                       0                  0                        0   \n",
       "21932                       1                  0                        0   \n",
       "\n",
       "       race_Black  race_White  sex_Female  sex_Male  native-country_Mexico   \n",
       "9646            0           1           1         0                      0  \\\n",
       "709             0           1           0         1                      0   \n",
       "7385            0           1           0         1                      0   \n",
       "16671           0           1           0         1                      0   \n",
       "21932           0           1           1         0                      0   \n",
       "\n",
       "       native-country_United-States  \n",
       "9646                              1  \n",
       "709                               1  \n",
       "7385                              1  \n",
       "16671                             1  \n",
       "21932                             1  \n",
       "\n",
       "[5 rows x 57 columns]"
      ]
     },
     "execution_count": 4,
     "metadata": {},
     "output_type": "execute_result"
    }
   ],
   "source": [
    "x_train = df.drop(\"income\", axis=1)\n",
    "y_train = df[\"income\"]\n",
    "\n",
    "x_train, x_test, y_train, y_test = train_test_split(x_train, y_train, test_size=0.05, random_state=1)\n",
    "x_test.head()"
   ]
  },
  {
   "cell_type": "markdown",
   "id": "a6d69b7c-9e33-4e1d-ad8e-a753fc5983e6",
   "metadata": {},
   "source": [
    "Пишу невелику функцію що може вивести основні данні по моделі. Після чого тестую просто базові конфігурації моделей на датасеті."
   ]
  },
  {
   "cell_type": "code",
   "execution_count": 5,
   "id": "ed64c57f-e82f-41e7-8445-0548e164e16e",
   "metadata": {
    "tags": []
   },
   "outputs": [],
   "source": [
    "from sklearn.metrics import precision_score, recall_score, f1_score\n",
    "\n",
    "def evaluateModel(model):\n",
    "    y_pred = model.predict(x_test)\n",
    "\n",
    "    accuracy = model.score(x_test, y_test)\n",
    "    precision = precision_score(y_test, y_pred, average='macro')\n",
    "    recall = recall_score(y_test, y_pred, average='macro')\n",
    "    f1 = f1_score(y_test, y_pred, average='macro')\n",
    "    confM = metrics.confusion_matrix(y_test, y_pred)\n",
    "\n",
    "    print(\"Accuracy: \", accuracy)\n",
    "    print(\"Precision: \", precision)\n",
    "    print(\"Recall: \", recall)\n",
    "    print(\"F1-score: \", f1)\n",
    "    print(\"Cofusion Matrix:\")\n",
    "    print(confM)"
   ]
  },
  {
   "cell_type": "code",
   "execution_count": 6,
   "id": "ff5e49c2-1a1d-4da7-8e72-9fe29607c96c",
   "metadata": {
    "tags": []
   },
   "outputs": [
    {
     "data": {
      "text/html": [
       "<style>#sk-container-id-1 {color: black;background-color: white;}#sk-container-id-1 pre{padding: 0;}#sk-container-id-1 div.sk-toggleable {background-color: white;}#sk-container-id-1 label.sk-toggleable__label {cursor: pointer;display: block;width: 100%;margin-bottom: 0;padding: 0.3em;box-sizing: border-box;text-align: center;}#sk-container-id-1 label.sk-toggleable__label-arrow:before {content: \"▸\";float: left;margin-right: 0.25em;color: #696969;}#sk-container-id-1 label.sk-toggleable__label-arrow:hover:before {color: black;}#sk-container-id-1 div.sk-estimator:hover label.sk-toggleable__label-arrow:before {color: black;}#sk-container-id-1 div.sk-toggleable__content {max-height: 0;max-width: 0;overflow: hidden;text-align: left;background-color: #f0f8ff;}#sk-container-id-1 div.sk-toggleable__content pre {margin: 0.2em;color: black;border-radius: 0.25em;background-color: #f0f8ff;}#sk-container-id-1 input.sk-toggleable__control:checked~div.sk-toggleable__content {max-height: 200px;max-width: 100%;overflow: auto;}#sk-container-id-1 input.sk-toggleable__control:checked~label.sk-toggleable__label-arrow:before {content: \"▾\";}#sk-container-id-1 div.sk-estimator input.sk-toggleable__control:checked~label.sk-toggleable__label {background-color: #d4ebff;}#sk-container-id-1 div.sk-label input.sk-toggleable__control:checked~label.sk-toggleable__label {background-color: #d4ebff;}#sk-container-id-1 input.sk-hidden--visually {border: 0;clip: rect(1px 1px 1px 1px);clip: rect(1px, 1px, 1px, 1px);height: 1px;margin: -1px;overflow: hidden;padding: 0;position: absolute;width: 1px;}#sk-container-id-1 div.sk-estimator {font-family: monospace;background-color: #f0f8ff;border: 1px dotted black;border-radius: 0.25em;box-sizing: border-box;margin-bottom: 0.5em;}#sk-container-id-1 div.sk-estimator:hover {background-color: #d4ebff;}#sk-container-id-1 div.sk-parallel-item::after {content: \"\";width: 100%;border-bottom: 1px solid gray;flex-grow: 1;}#sk-container-id-1 div.sk-label:hover label.sk-toggleable__label {background-color: #d4ebff;}#sk-container-id-1 div.sk-serial::before {content: \"\";position: absolute;border-left: 1px solid gray;box-sizing: border-box;top: 0;bottom: 0;left: 50%;z-index: 0;}#sk-container-id-1 div.sk-serial {display: flex;flex-direction: column;align-items: center;background-color: white;padding-right: 0.2em;padding-left: 0.2em;position: relative;}#sk-container-id-1 div.sk-item {position: relative;z-index: 1;}#sk-container-id-1 div.sk-parallel {display: flex;align-items: stretch;justify-content: center;background-color: white;position: relative;}#sk-container-id-1 div.sk-item::before, #sk-container-id-1 div.sk-parallel-item::before {content: \"\";position: absolute;border-left: 1px solid gray;box-sizing: border-box;top: 0;bottom: 0;left: 50%;z-index: -1;}#sk-container-id-1 div.sk-parallel-item {display: flex;flex-direction: column;z-index: 1;position: relative;background-color: white;}#sk-container-id-1 div.sk-parallel-item:first-child::after {align-self: flex-end;width: 50%;}#sk-container-id-1 div.sk-parallel-item:last-child::after {align-self: flex-start;width: 50%;}#sk-container-id-1 div.sk-parallel-item:only-child::after {width: 0;}#sk-container-id-1 div.sk-dashed-wrapped {border: 1px dashed gray;margin: 0 0.4em 0.5em 0.4em;box-sizing: border-box;padding-bottom: 0.4em;background-color: white;}#sk-container-id-1 div.sk-label label {font-family: monospace;font-weight: bold;display: inline-block;line-height: 1.2em;}#sk-container-id-1 div.sk-label-container {text-align: center;}#sk-container-id-1 div.sk-container {/* jupyter's `normalize.less` sets `[hidden] { display: none; }` but bootstrap.min.css set `[hidden] { display: none !important; }` so we also need the `!important` here to be able to override the default hidden behavior on the sphinx rendered scikit-learn.org. See: https://github.com/scikit-learn/scikit-learn/issues/21755 */display: inline-block !important;position: relative;}#sk-container-id-1 div.sk-text-repr-fallback {display: none;}</style><div id=\"sk-container-id-1\" class=\"sk-top-container\"><div class=\"sk-text-repr-fallback\"><pre>KNeighborsClassifier(algorithm=&#x27;ball_tree&#x27;)</pre><b>In a Jupyter environment, please rerun this cell to show the HTML representation or trust the notebook. <br />On GitHub, the HTML representation is unable to render, please try loading this page with nbviewer.org.</b></div><div class=\"sk-container\" hidden><div class=\"sk-item\"><div class=\"sk-estimator sk-toggleable\"><input class=\"sk-toggleable__control sk-hidden--visually\" id=\"sk-estimator-id-1\" type=\"checkbox\" checked><label for=\"sk-estimator-id-1\" class=\"sk-toggleable__label sk-toggleable__label-arrow\">KNeighborsClassifier</label><div class=\"sk-toggleable__content\"><pre>KNeighborsClassifier(algorithm=&#x27;ball_tree&#x27;)</pre></div></div></div></div></div>"
      ],
      "text/plain": [
       "KNeighborsClassifier(algorithm='ball_tree')"
      ]
     },
     "execution_count": 6,
     "metadata": {},
     "output_type": "execute_result"
    }
   ],
   "source": [
    "knn5 = neighbors.KNeighborsClassifier(n_neighbors=5, algorithm=\"ball_tree\", p=2)\n",
    "knn5.fit(x_train, y_train)"
   ]
  },
  {
   "cell_type": "code",
   "execution_count": 7,
   "id": "848691b9-4163-4ec6-b722-71fd238865c5",
   "metadata": {
    "tags": []
   },
   "outputs": [
    {
     "name": "stdout",
     "output_type": "stream",
     "text": [
      "Accuracy:  0.8096992019643954\n",
      "Precision:  0.7292577465431479\n",
      "Recall:  0.714870916416455\n",
      "F1-score:  0.7214235593175459\n",
      "Cofusion Matrix:\n",
      "[[ 201  171]\n",
      " [ 139 1118]]\n"
     ]
    }
   ],
   "source": [
    "evaluateModel(knn5)"
   ]
  },
  {
   "cell_type": "code",
   "execution_count": 53,
   "id": "4990cdc2-47e9-4ef3-abc4-54044f2d265c",
   "metadata": {
    "tags": []
   },
   "outputs": [
    {
     "name": "stdout",
     "output_type": "stream",
     "text": [
      "Accuracy:  0.8115408225905464\n",
      "Precision:  0.7321625209800456\n",
      "Recall:  0.723634742217774\n",
      "F1-score:  0.7276757831112078\n",
      "Cofusion Matrix:\n",
      "[[ 209  163]\n",
      " [ 144 1113]]\n"
     ]
    }
   ],
   "source": [
    "knn3 = neighbors.KNeighborsClassifier(n_neighbors=3, algorithm=\"ball_tree\", p=2)\n",
    "knn3.fit(x_train, y_train)\n",
    "evaluateModel(knn3)"
   ]
  },
  {
   "cell_type": "code",
   "execution_count": 30,
   "id": "d1c52f60-3a07-47d3-8294-f4385c73ba5d",
   "metadata": {
    "tags": []
   },
   "outputs": [
    {
     "name": "stdout",
     "output_type": "stream",
     "text": [
      "Accuracy:  0.8428483732351135\n",
      "Precision:  0.7820797893009801\n",
      "Recall:  0.751491646778043\n",
      "F1-score:  0.7646485168630639\n",
      "Cofusion Matrix:\n",
      "[[ 217  155]\n",
      " [ 101 1156]]\n"
     ]
    }
   ],
   "source": [
    "LM1 = linear_model.LogisticRegression(max_iter=500)\n",
    "LM1.fit(x_train, y_train)\n",
    "evaluateModel(LM1)"
   ]
  },
  {
   "cell_type": "code",
   "execution_count": 55,
   "id": "a52cb657-622c-4fbf-9876-ce87191a93f7",
   "metadata": {
    "tags": []
   },
   "outputs": [
    {
     "name": "stdout",
     "output_type": "stream",
     "text": [
      "[5.89761374]\n",
      "[[-1.77581841e+00 -9.46472473e-01 -2.70085720e+00 -1.74590180e+01\n",
      "  -2.48720655e+00 -2.79094732e+00 -7.13646622e-01 -3.97240125e-02\n",
      "  -2.29051897e-01 -4.14860270e-01  2.54597363e-01  9.10401815e-02\n",
      "   1.76636753e-01  2.66769651e-01 -2.58256526e-03 -2.30809195e-01\n",
      "   2.98076997e-01  2.00989107e-01 -3.07869157e-02 -2.36986033e-01\n",
      "  -4.68764521e-01 -9.03115954e-01 -7.90881108e-02 -6.21911200e-01\n",
      "  -9.35036014e-01 -2.51195949e-01  1.18620466e+00 -5.56941705e-01\n",
      "   1.15757514e+00  1.65239124e+00  1.29147051e+00  1.01157923e+00\n",
      "  -3.92653852e-01 -4.50652217e-01 -1.15188310e+00  5.47308671e-01\n",
      "   2.87833359e-01 -7.07278368e-02  4.97670600e-01 -9.14879967e-01\n",
      "  -9.19995589e-01 -6.52649055e-01 -1.01335788e+00 -2.62571321e-01\n",
      "   1.60641511e-01  2.23815736e-02  7.82404224e-01  1.25567237e+00\n",
      "   1.56733724e-01 -1.15137686e+00 -4.51572487e-01 -2.81374653e-01\n",
      "  -4.68966427e-01  1.03152383e+00  1.94932716e-01  7.04813956e-01\n",
      "  -2.20571044e-01]]\n"
     ]
    }
   ],
   "source": [
    "print(LM1.intercept_)\n",
    "print(LM1.coef_)"
   ]
  },
  {
   "cell_type": "code",
   "execution_count": 56,
   "id": "586b6756-109f-4c18-94ce-d2e71d2ee0f4",
   "metadata": {
    "tags": []
   },
   "outputs": [
    {
     "name": "stdout",
     "output_type": "stream",
     "text": [
      "Accuracy:  0.848987108655617\n",
      "Precision:  0.7932353444691727\n",
      "Recall:  0.7564156850668515\n",
      "F1-score:  0.7718996466366734\n",
      "Cofusion Matrix:\n",
      "[[ 218  154]\n",
      " [  92 1165]]\n"
     ]
    }
   ],
   "source": [
    "LSVC = svm.LinearSVC()\n",
    "LSVC.fit(x_train, y_train)\n",
    "evaluateModel(LSVC)"
   ]
  },
  {
   "cell_type": "code",
   "execution_count": 57,
   "id": "631baa1e-75d9-4855-a1d5-bd1d0ce2747a",
   "metadata": {
    "tags": []
   },
   "outputs": [
    {
     "name": "stdout",
     "output_type": "stream",
     "text": [
      "Accuracy:  0.8139963167587477\n",
      "Precision:  0.7366831826851314\n",
      "Recall:  0.744152103061565\n",
      "F1-score:  0.7402470349439038\n",
      "Cofusion Matrix:\n",
      "[[ 229  143]\n",
      " [ 160 1097]]\n"
     ]
    }
   ],
   "source": [
    "DT = tree.DecisionTreeClassifier()\n",
    "DT.fit(x_train, y_train)\n",
    "evaluateModel(DT)"
   ]
  },
  {
   "cell_type": "code",
   "execution_count": 58,
   "id": "d496004f-bfea-4189-a228-ce0cbfb3bdaa",
   "metadata": {
    "tags": []
   },
   "outputs": [
    {
     "name": "stdout",
     "output_type": "stream",
     "text": [
      "Accuracy:  0.8446899938612645\n",
      "Precision:  0.7819135430221855\n",
      "Recall:  0.7659333538635256\n",
      "F1-score:  0.7733325266946973\n",
      "Cofusion Matrix:\n",
      "[[ 231  141]\n",
      " [ 112 1145]]\n"
     ]
    }
   ],
   "source": [
    "RF = ensemble.RandomForestClassifier(n_estimators=100)\n",
    "RF.fit(x_train, y_train)\n",
    "evaluateModel(RF)"
   ]
  },
  {
   "cell_type": "markdown",
   "id": "04b50c43-2eee-4a68-984e-25f2eca91b10",
   "metadata": {},
   "source": [
    "Потім тестую на машині опорних векторів якість класифікації відносно розміру навчальної вибірки. Як видно з графіку 25000 (~= розміру нашої навчальної вибірки) якраз прекрасний розмір навчальної вибірки з мінімальним перенавчанням."
   ]
  },
  {
   "cell_type": "code",
   "execution_count": 10,
   "id": "a70b388a-f4ce-4d09-9025-b6b84932ff07",
   "metadata": {
    "tags": []
   },
   "outputs": [],
   "source": [
    "import matplotlib.pyplot as plt\n",
    "\n",
    "def trainSizeGraph(model, downLim=0.5, upLim=1):\n",
    "    train_sizes, train_scores, test_scores = model_selection.learning_curve(model, x_train, y_train, \n",
    "                                                                            train_sizes=np.linspace(0.1, 1.0, 10), \n",
    "                                                                            cv=model_selection.KFold(5, shuffle=True))\n",
    "    \n",
    "\n",
    "    train_mean = np.mean(train_scores, axis=1)\n",
    "    train_std = np.std(train_scores, axis=1)\n",
    "    test_mean = np.mean(test_scores, axis=1)\n",
    "    test_std = np.std(test_scores, axis=1)\n",
    "\n",
    "    plt.plot(train_sizes, train_mean, color='blue', linestyle='--', marker='o', markersize=5, label='Тренувальний набір')\n",
    "    plt.plot(train_sizes, test_mean, color='green', marker='s', markersize=5, label='Тестовий набір')\n",
    "    plt.xlabel('Кількість тренувальних прикладів')\n",
    "    plt.ylabel('Точність')\n",
    "    plt.legend(loc='lower right')\n",
    "    plt.ylim([downLim, upLim])\n",
    "    plt.show()\n",
    "    return train_sizes, train_scores, test_scores"
   ]
  },
  {
   "cell_type": "code",
   "execution_count": 17,
   "id": "8c4197f8-0016-4915-8edd-a8a6a167fbf8",
   "metadata": {
    "tags": []
   },
   "outputs": [
    {
     "data": {
      "image/png": "[encoded data removed]",
      "text/plain": [
       "<Figure size 640x480 with 1 Axes>"
      ]
     },
     "metadata": {},
     "output_type": "display_data"
    }
   ],
   "source": [
    "LSVC = svm.LinearSVC(max_iter=500)\n",
    "res = trainSizeGraph(LSVC, 0.8, 0.9)"
   ]
  },
  {
   "cell_type": "markdown",
   "id": "6dfc414c-3ddb-4220-b3c2-93ae18e171bb",
   "metadata": {},
   "source": [
    "Тепер я тестую силу класифіккації на, як на мене, моделі, що найкраще себе проявила - машині опорних векторів. Як видно з графіка найкраща константа регуляризації ~2.5."
   ]
  },
  {
   "cell_type": "code",
   "execution_count": 27,
   "id": "797c8711-3dc7-4dc0-bf99-d890f56bce6c",
   "metadata": {
    "tags": []
   },
   "outputs": [
    {
     "data": {
      "image/png": "[encoded data removed]",
      "text/plain": [
       "<Figure size 640x480 with 1 Axes>"
      ]
     },
     "metadata": {},
     "output_type": "display_data"
    }
   ],
   "source": [
    "LSVC = svm.LinearSVC(max_iter=2500)\n",
    "def trainAccur(model, param=\"C\"):\n",
    "    rng = np.arange(0.1, 7, 0.5)\n",
    "    train_scores, test_scores = model_selection.validation_curve(\n",
    "        model, x_train, y_train, param_name=param, param_range=rng,\n",
    "        cv=model_selection.KFold(3, shuffle=True), scoring=\"accuracy\")\n",
    "\n",
    "    plt.plot(rng, train_scores.mean(axis=1), 'g', label='Training accuracy')\n",
    "    plt.plot(rng, test_scores.mean(axis=1), 'b', label='Test accuracy')\n",
    "    plt.title('Training and Test accuracy')\n",
    "    plt.xlabel('Size of C')\n",
    "    plt.ylabel('Accuracy')\n",
    "    plt.legend()\n",
    "    plt.show()\n",
    "    \n",
    "trainAccur(LSVC, \"C\")"
   ]
  },
  {
   "cell_type": "markdown",
   "id": "f808fa4a-25b7-40a9-b2f4-b44418126f75",
   "metadata": {},
   "source": [
    "Після чого зрозумівши що при константі регуляризації вище 4 нічого ловити вирішив вже перебрати її точніше на меншому проміжку. Отримав точність приблизно 84.65%."
   ]
  },
  {
   "cell_type": "code",
   "execution_count": 28,
   "id": "b42a4927-32ff-4765-8ceb-44cc09d3f990",
   "metadata": {
    "tags": []
   },
   "outputs": [
    {
     "name": "stdout",
     "output_type": "stream",
     "text": [
      "Accuracy:  0.8465316144874155\n",
      "Precision:  0.7892513879038372\n",
      "Recall:  0.7529319680755511\n",
      "F1-score:  0.7681906978014972\n",
      "Cofusion Matrix:\n",
      "[[ 216  156]\n",
      " [  94 1163]]\n"
     ]
    }
   ],
   "source": [
    "model1 = svm.LinearSVC(max_iter=2500)\n",
    "\n",
    "param_grid = {'C': np.arange(0.1, 4, 0.2)}\n",
    "\n",
    "grid = model_selection.GridSearchCV(model1, \n",
    "                    param_grid=param_grid, \n",
    "                    cv=model_selection.KFold(4, shuffle=True), \n",
    "                    scoring='accuracy')\n",
    "\n",
    "grid.fit(x_train, y_train)\n",
    "\n",
    "model1Best = grid.best_estimator_\n",
    "evaluateModel(model1Best)"
   ]
  },
  {
   "cell_type": "markdown",
   "id": "031ef144-ade3-422d-b031-9b1337069beb",
   "metadata": {},
   "source": [
    "Потім вирішив по підбирати параметри до другої за якістю моделі - RandomForest. Через більшу кількість підбираємих параметрів вона виявилась трішки краще - 85.2%."
   ]
  },
  {
   "cell_type": "code",
   "execution_count": 29,
   "id": "d3d80457-ab51-42d1-86f4-740daa436502",
   "metadata": {
    "tags": []
   },
   "outputs": [
    {
     "name": "stdout",
     "output_type": "stream",
     "text": [
      "Accuracy:  0.8520564763658687\n",
      "Precision:  0.8091496312428847\n",
      "Recall:  0.7404245900377242\n",
      "F1-score:  0.7654141727032681\n",
      "Cofusion Matrix:\n",
      "[[ 199  173]\n",
      " [  68 1189]]\n"
     ]
    }
   ],
   "source": [
    "model2 = ensemble.RandomForestClassifier()\n",
    "\n",
    "param_grid = {\n",
    "    'n_estimators': np.arange(50, 150, 50),\n",
    "    'max_depth': np.arange(5, 15, 5),\n",
    "    'min_samples_leaf': np.arange(1, 10, 3)\n",
    "}\n",
    "\n",
    "grid2 = model_selection.GridSearchCV(model2, param_grid, cv=model_selection.KFold(4, shuffle=True), scoring='accuracy')\n",
    "\n",
    "grid2.fit(x_train, y_train)\n",
    "model1Best = grid2.best_estimator_\n",
    "evaluateModel(model1Best)"
   ]
  }
 ],
 "metadata": {
  "kernelspec": {
   "display_name": "Python 3 (ipykernel)",
   "language": "python",
   "name": "python3"
  },
  "language_info": {
   "codemirror_mode": {
    "name": "ipython",
    "version": 3
   },
   "file_extension": ".py",
   "mimetype": "text/x-python",
   "name": "python",
   "nbconvert_exporter": "python",
   "pygments_lexer": "ipython3",
   "version": "3.10.6"
  }
 },
 "nbformat": 4,
 "nbformat_minor": 5
}
